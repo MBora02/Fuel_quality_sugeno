{
 "cells": [
  {
   "cell_type": "code",
   "execution_count": 6,
   "id": "7b8cccf7-1077-4799-af51-5d5dbcfd6b39",
   "metadata": {
    "collapsed": true,
    "jupyter": {
     "outputs_hidden": true
    },
    "tags": []
   },
   "outputs": [
    {
     "name": "stdout",
     "output_type": "stream",
     "text": [
      "Defaulting to user installation because normal site-packages is not writeable\n",
      "Requirement already satisfied: scikit-fuzzy in c:\\users\\mbcmu\\appdata\\roaming\\python\\python311\\site-packages (0.4.2)\n",
      "Requirement already satisfied: numpy>=1.6.0 in c:\\programdata\\anaconda3\\lib\\site-packages (from scikit-fuzzy) (1.26.4)\n",
      "Requirement already satisfied: scipy>=0.9.0 in c:\\programdata\\anaconda3\\lib\\site-packages (from scikit-fuzzy) (1.11.4)\n",
      "Requirement already satisfied: networkx>=1.9.0 in c:\\programdata\\anaconda3\\lib\\site-packages (from scikit-fuzzy) (3.1)\n"
     ]
    }
   ],
   "source": [
    "!pip install scikit-fuzzy"
   ]
  },
  {
   "cell_type": "code",
   "execution_count": 1,
   "id": "afcfade6-0ccb-4bae-b19a-7669d325c87a",
   "metadata": {
    "tags": []
   },
   "outputs": [
    {
     "name": "stdout",
     "output_type": "stream",
     "text": [
      "kalite seviyesi= 81.42857142857139\n"
     ]
    }
   ],
   "source": [
    "import numpy as np\n",
    "import skfuzzy as fuzz\n",
    "from skfuzzy import control as ctrl\n",
    "\n",
    "# Giriş değişkenlerinin tanımlanması\n",
    "sicaklik = ctrl.Antecedent(np.arange(0, 101, 1), 'sıcaklık')\n",
    "basinc = ctrl.Antecedent(np.arange(0, 101, 1), 'basınç')\n",
    "nem = ctrl.Antecedent(np.arange(0, 101, 1), 'nem')\n",
    "karisim = ctrl.Antecedent(np.arange(0, 101, 1), 'karışım')\n",
    "kukurt = ctrl.Antecedent(np.arange(0, 101, 1), 'kükürt')\n",
    "viskozite = ctrl.Antecedent(np.arange(0, 101, 1), 'viskozite')\n",
    "yogunluk = ctrl.Antecedent(np.arange(0, 101, 1), 'yoğunluk')\n",
    "partikul = ctrl.Antecedent(np.arange(0, 101, 1), 'partikül')\n",
    "akis_hizi = ctrl.Antecedent(np.arange(0, 101, 1), 'akış_hızı')\n",
    "\n",
    "# Üyelik fonksiyonlarının tanımlanması\n",
    "# Yakıt Sıcaklığı (Temperature)\n",
    "sicaklik['düşük'] = fuzz.trimf(sicaklik.universe, [0, 0, 50])\n",
    "sicaklik['orta'] = fuzz.trimf(sicaklik.universe, [25, 50, 75])\n",
    "sicaklik['yüksek'] = fuzz.trimf(sicaklik.universe, [50, 100, 100])\n",
    "# Yakıt Basıncı (Pressure)\n",
    "basinc['düşük'] = fuzz.trimf(basinc.universe, [0, 0, 50])\n",
    "basinc['orta'] = fuzz.trimf(basinc.universe, [25, 50, 75])\n",
    "basinc['yüksek'] = fuzz.trimf(basinc.universe, [50, 100, 100])\n",
    "# Yakıt Nem Oranı (Humidity)\n",
    "nem['düşük'] = fuzz.trimf(nem.universe, [0, 0, 50])\n",
    "nem['orta'] = fuzz.trimf(nem.universe, [25, 50, 75])\n",
    "nem['yüksek'] = fuzz.trimf(nem.universe, [50, 100, 100])\n",
    "# Yakıt Karışım Oranı (Mixture Ratio)\n",
    "karisim['düşük'] = fuzz.trimf(karisim.universe, [0, 0, 50])\n",
    "karisim['orta'] = fuzz.trimf(karisim.universe, [25, 50, 75])\n",
    "karisim['yüksek'] = fuzz.trimf(karisim.universe, [50, 100, 100])\n",
    "# Yakıt Kükürt İçeriği (Sulfur Content)\n",
    "kukurt['düşük'] = fuzz.trimf(kukurt.universe, [0, 0, 50])\n",
    "kukurt['orta'] = fuzz.trimf(kukurt.universe, [25, 50, 75])\n",
    "kukurt['yüksek'] = fuzz.trimf(kukurt.universe, [50, 100, 100])\n",
    "# Yakıt Viskozitesi (Viscosity)\n",
    "viskozite['düşük'] = fuzz.trimf(viskozite.universe, [0, 0, 50])\n",
    "viskozite['orta'] = fuzz.trimf(viskozite.universe, [25, 50, 75])\n",
    "viskozite['yüksek'] = fuzz.trimf(viskozite.universe, [50, 100, 100])\n",
    "# Yakıt Yoğunluğu (Density)\n",
    "yogunluk['düşük'] = fuzz.trimf(yogunluk.universe, [0, 0, 50])\n",
    "yogunluk['orta'] = fuzz.trimf(yogunluk.universe, [25, 50, 75])\n",
    "yogunluk['yüksek'] = fuzz.trimf(yogunluk.universe, [50, 100, 100])\n",
    "# Yakıt Partikül Boyutu (Particle Size)\n",
    "partikul['küçük'] = fuzz.trimf(partikul.universe, [0, 0, 50])\n",
    "partikul['orta'] = fuzz.trimf(partikul.universe, [25, 50, 75])\n",
    "partikul['büyük'] = fuzz.trimf(partikul.universe, [50, 100, 100])\n",
    "# Yakıt Akış Hızı (Flow Rate)\n",
    "akis_hizi['düşük'] = fuzz.trimf(akis_hizi.universe, [0, 0, 50])\n",
    "akis_hizi['orta'] = fuzz.trimf(akis_hizi.universe, [25, 50, 75])\n",
    "akis_hizi['yüksek'] = fuzz.trimf(akis_hizi.universe, [50, 100, 100])\n",
    "\n",
    "# Çıktı değişkeninin tanımlanması\n",
    "kalite = ctrl.Consequent(np.arange(0, 101, 1), 'kalite')\n",
    "\n",
    "# Kalite üyelik fonksiyonlarının tanımlanması\n",
    "kalite['düşük'] = fuzz.trimf(kalite.universe, [0, 0, 50])\n",
    "kalite['orta'] = fuzz.trimf(kalite.universe, [25, 50, 75])\n",
    "kalite['yüksek'] = fuzz.trimf(kalite.universe, [50, 100, 100])\n",
    "\n",
    "# Kuralların oluşturulması\n",
    "rule1 = ctrl.Rule(sicaklik['düşük'] & basinc['düşük'], kalite['düşük'])\n",
    "rule2 = ctrl.Rule(sicaklik['orta'] & nem['yüksek'], kalite['orta'])\n",
    "rule3 = ctrl.Rule(karisim['yüksek'] & kukurt['orta'], kalite['yüksek'])\n",
    "rule4 = ctrl.Rule(viskozite['orta'] & yogunluk['orta'] & partikul['orta'], kalite['yüksek'])\n",
    "rule5 = ctrl.Rule(nem['yüksek'] & akis_hizi['yüksek'], kalite['orta'])\n",
    "rule6 = ctrl.Rule(sicaklik['yüksek'] & basinc['yüksek'] & kukurt['yüksek'], kalite['yüksek'])\n",
    "rule7 = ctrl.Rule(sicaklik['yüksek'] & basinc['orta'] & nem['düşük'] & karisim['düşük'], kalite['orta'])\n",
    "rule8 = ctrl.Rule(kukurt['yüksek'] & viskozite['orta'] & yogunluk['orta'], kalite['orta'])\n",
    "rule9 = ctrl.Rule(partikul['büyük'] & akis_hizi['orta'], kalite['düşük'])\n",
    "rule10 = ctrl.Rule(basinc['orta'] & nem['orta'] & viskozite['yüksek'], kalite['yüksek'])\n",
    "rule11 = ctrl.Rule(sicaklik['orta'] & karisim['yüksek'] & kukurt['orta'] & yogunluk['orta'], kalite['yüksek'])\n",
    "rule12 = ctrl.Rule(partikul['küçük'] & akis_hizi['yüksek'], kalite['orta'])\n",
    "\n",
    "\n",
    "# Kontrol sistemi oluşturma\n",
    "kalite_ctrl = ctrl.ControlSystem([rule1, rule2, rule3, rule4, rule5, rule6, rule7, rule8, rule9, rule10, rule11,rule12])\n",
    "\n",
    "# Simülasyonun oluşturulması\n",
    "kalite_sim = ctrl.ControlSystemSimulation(kalite_ctrl)\n",
    "\n",
    "# Giriş değerlerinin atanması\n",
    "kalite_sim.input['sıcaklık'] =50\n",
    "kalite_sim.input['basınç'] = 40\n",
    "kalite_sim.input['nem'] = 50\n",
    "kalite_sim.input['karışım'] = 89\n",
    "kalite_sim.input['kükürt'] = 5\n",
    "kalite_sim.input['viskozite'] = 100\n",
    "kalite_sim.input['yoğunluk'] = 30\n",
    "kalite_sim.input['partikül'] = 40\n",
    "kalite_sim.input['akış_hızı'] = 40\n",
    "\n",
    "# Çıktının hesaplanması\n",
    "kalite_sim.compute()\n",
    "\n",
    "# Çıktının alınması\n",
    "print(\"kalite seviyesi=\", kalite_sim.output['kalite'])\n"
   ]
  },
  {
   "cell_type": "code",
   "execution_count": null,
   "id": "bbee4fc8-5039-4da0-8114-9fe0e4061b05",
   "metadata": {},
   "outputs": [],
   "source": []
  }
 ],
 "metadata": {
  "kernelspec": {
   "display_name": "Python 3 (ipykernel)",
   "language": "python",
   "name": "python3"
  },
  "language_info": {
   "codemirror_mode": {
    "name": "ipython",
    "version": 3
   },
   "file_extension": ".py",
   "mimetype": "text/x-python",
   "name": "python",
   "nbconvert_exporter": "python",
   "pygments_lexer": "ipython3",
   "version": "3.11.7"
  }
 },
 "nbformat": 4,
 "nbformat_minor": 5
}
